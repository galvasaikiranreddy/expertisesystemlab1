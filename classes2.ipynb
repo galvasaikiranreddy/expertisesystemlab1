{
 "cells": [
  {
   "cell_type": "code",
   "execution_count": 1,
   "metadata": {},
   "outputs": [],
   "source": [
    "class Circle:\n",
    "    def __init__(self,r):\n",
    "        self.radius = r\n",
    "        \n",
    "    def set_radius(self,radius):\n",
    "        self.radius = radius\n",
    "        \n",
    "    def get_radius(self):\n",
    "        return self.radius\n",
    "        \n",
    "    def getarea(self):\n",
    "        return self.radius**2*3.14\n",
    "    def getcircumference(self):\n",
    "        return 2*self.radius*3.14"
   ]
  },
  {
   "cell_type": "code",
   "execution_count": 2,
   "metadata": {},
   "outputs": [
    {
     "data": {
      "text/plain": [
       "78.5"
      ]
     },
     "execution_count": 2,
     "metadata": {},
     "output_type": "execute_result"
    }
   ],
   "source": [
    "c = Circle(5)\n",
    "c.getarea()"
   ]
  },
  {
   "cell_type": "code",
   "execution_count": 3,
   "metadata": {},
   "outputs": [
    {
     "data": {
      "text/plain": [
       "3.14"
      ]
     },
     "execution_count": 3,
     "metadata": {},
     "output_type": "execute_result"
    }
   ],
   "source": [
    "c.set_radius(1)\n",
    "\n",
    "c.getarea()"
   ]
  },
  {
   "cell_type": "code",
   "execution_count": 4,
   "metadata": {},
   "outputs": [
    {
     "data": {
      "text/plain": [
       "1"
      ]
     },
     "execution_count": 4,
     "metadata": {},
     "output_type": "execute_result"
    }
   ],
   "source": [
    "c.get_radius()"
   ]
  },
  {
   "cell_type": "code",
   "execution_count": 13,
   "metadata": {},
   "outputs": [],
   "source": [
    "class Automobile:\n",
    "    \n",
    "    def __init__(self,make,model,price):\n",
    "        self.make = make\n",
    "        self.model = model\n",
    "        self.price = price\n",
    "    \n",
    "    def set_make(self,make):\n",
    "        self.make = make\n",
    "    def set_model(self,model):\n",
    "        self.model = model\n",
    "    def set_price(self,price):\n",
    "        self.price = price\n",
    "        \n",
    "    def get_make(self):\n",
    "        return self.make \n",
    "    def get_model(self):\n",
    "        return self.model\n",
    "    def get_price(self):\n",
    "        return self.price   "
   ]
  },
  {
   "cell_type": "code",
   "execution_count": 14,
   "metadata": {},
   "outputs": [],
   "source": [
    "class Car(Automobile):\n",
    "    \n",
    "    def __init__(self,make,model,price,doors):\n",
    "        Automobile.__init__(self,make,model,price)\n",
    "        self.doors = doors\n",
    "        \n",
    "    def set_doors(self,doors):\n",
    "        self.doors = doors\n",
    "        \n",
    "    def get_doors(self):\n",
    "        return self.doors"
   ]
  },
  {
   "cell_type": "code",
   "execution_count": 15,
   "metadata": {},
   "outputs": [],
   "source": [
    "class Truck(Automobile):\n",
    "    \n",
    "    def __init__(self,make,model,price,drive_type):\n",
    "        Automobile.__init__(self,make,model,price)\n",
    "        self.drive_type = drive_type\n",
    "        \n",
    "    def set_drive_type(self,drive_type):\n",
    "        self.drive_type = drive_type\n",
    "        \n",
    "    def get_doors(self):\n",
    "        return self.drive_type"
   ]
  },
  {
   "cell_type": "code",
   "execution_count": 16,
   "metadata": {},
   "outputs": [],
   "source": [
    "new_car = Car(\"Audi\",\"2019\",\"60000\",\"4\")"
   ]
  },
  {
   "cell_type": "code",
   "execution_count": 17,
   "metadata": {},
   "outputs": [
    {
     "data": {
      "text/plain": [
       "'Audi'"
      ]
     },
     "execution_count": 17,
     "metadata": {},
     "output_type": "execute_result"
    }
   ],
   "source": [
    "new_car.get_make()"
   ]
  },
  {
   "cell_type": "code",
   "execution_count": 18,
   "metadata": {},
   "outputs": [
    {
     "data": {
      "text/plain": [
       "'Jaguar'"
      ]
     },
     "execution_count": 18,
     "metadata": {},
     "output_type": "execute_result"
    }
   ],
   "source": [
    "new_car.set_make(\"Jaguar\")\n",
    "new_car.get_make()"
   ]
  }
 ],
 "metadata": {
  "kernelspec": {
   "display_name": "Python 3",
   "language": "python",
   "name": "python3"
  },
  "language_info": {
   "codemirror_mode": {
    "name": "ipython",
    "version": 3
   },
   "file_extension": ".py",
   "mimetype": "text/x-python",
   "name": "python",
   "nbconvert_exporter": "python",
   "pygments_lexer": "ipython3",
   "version": "3.7.4"
  }
 },
 "nbformat": 4,
 "nbformat_minor": 2
}
